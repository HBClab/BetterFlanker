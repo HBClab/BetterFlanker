{
 "cells": [
  {
   "cell_type": "code",
   "execution_count": 18,
   "metadata": {
    "collapsed": true
   },
   "outputs": [],
   "source": [
    "%matplotlib inline\n",
    "from matplotlib import pyplot as plt\n",
    "plt.style.use('ggplot')\n",
    "from convert_eprime import convert\n",
    "import pandas as pd\n",
    "import numpy as np\n",
    "import seaborn as sns\n",
    "sns.set_palette(\"bright\")\n",
    "import os\n"
   ]
  },
  {
   "cell_type": "code",
   "execution_count": 19,
   "metadata": {
    "collapsed": true
   },
   "outputs": [],
   "source": [
    "txt = '/home/trevor/betterflanker/BetterFlanker/flankerA-002-1-1.txt'\n",
    "edat = '/home/trevor/betterflanker/BetterFlanker/flankerA-002-1-1.edat2'\n",
    "config = '/home/trevor/betterflanker/BetterFlanker/code/flanker.json'\n",
    "out_file = '/home/trevor/betterflanker/test/sub-002_raw.csv'\n",
    "proc_file = '/home/trevor/betterflanker/test/sub-002.tsv'"
   ]
  },
  {
   "cell_type": "code",
   "execution_count": 20,
   "metadata": {
    "scrolled": true
   },
   "outputs": [
    {
     "ename": "AttributeError",
     "evalue": "'NoneType' object has no attribute 'keys'",
     "output_type": "error",
     "traceback": [
      "\u001b[0;31m---------------------------------------------------------------------------\u001b[0m",
      "\u001b[0;31mAttributeError\u001b[0m                            Traceback (most recent call last)",
      "\u001b[0;32m<ipython-input-20-27846082e351>\u001b[0m in \u001b[0;36m<module>\u001b[0;34m()\u001b[0m\n\u001b[0;32m----> 1\u001b[0;31m \u001b[0mconvert\u001b[0m\u001b[0;34m.\u001b[0m\u001b[0mtext_to_rcsv\u001b[0m\u001b[0;34m(\u001b[0m\u001b[0mtxt\u001b[0m\u001b[0;34m,\u001b[0m \u001b[0medat\u001b[0m\u001b[0;34m,\u001b[0m \u001b[0mconfig\u001b[0m\u001b[0;34m,\u001b[0m \u001b[0mout_file\u001b[0m\u001b[0;34m)\u001b[0m\u001b[0;34m\u001b[0m\u001b[0m\n\u001b[0m",
      "\u001b[0;32m/home/trevor/anaconda3/lib/python3.6/site-packages/convert_eprime-0.0.1a0-py3.6.egg/convert_eprime/convert.py\u001b[0m in \u001b[0;36mtext_to_rcsv\u001b[0;34m(text_file, edat_file, param_file, out_file)\u001b[0m\n\u001b[1;32m    171\u001b[0m     \u001b[0;31m# Merge columns\u001b[0m\u001b[0;34m\u001b[0m\u001b[0;34m\u001b[0m\u001b[0m\n\u001b[1;32m    172\u001b[0m     \u001b[0mmerge_cols\u001b[0m \u001b[0;34m=\u001b[0m \u001b[0mparam_dict\u001b[0m\u001b[0;34m.\u001b[0m\u001b[0mget\u001b[0m\u001b[0;34m(\u001b[0m\u001b[0;34m'merge_cols'\u001b[0m\u001b[0;34m)\u001b[0m\u001b[0;34m\u001b[0m\u001b[0m\n\u001b[0;32m--> 173\u001b[0;31m     \u001b[0;32mfor\u001b[0m \u001b[0mcol\u001b[0m \u001b[0;32min\u001b[0m \u001b[0mlist\u001b[0m\u001b[0;34m(\u001b[0m\u001b[0mmerge_cols\u001b[0m\u001b[0;34m.\u001b[0m\u001b[0mkeys\u001b[0m\u001b[0;34m(\u001b[0m\u001b[0;34m)\u001b[0m\u001b[0;34m)\u001b[0m\u001b[0;34m:\u001b[0m\u001b[0;34m\u001b[0m\u001b[0m\n\u001b[0m\u001b[1;32m    174\u001b[0m         \u001b[0mdf\u001b[0m\u001b[0;34m[\u001b[0m\u001b[0mcol\u001b[0m\u001b[0;34m]\u001b[0m \u001b[0;34m=\u001b[0m \u001b[0mdf\u001b[0m\u001b[0;34m[\u001b[0m\u001b[0mmerge_cols\u001b[0m\u001b[0;34m[\u001b[0m\u001b[0mcol\u001b[0m\u001b[0;34m]\u001b[0m\u001b[0;34m]\u001b[0m\u001b[0;34m.\u001b[0m\u001b[0mfillna\u001b[0m\u001b[0;34m(\u001b[0m\u001b[0;34m''\u001b[0m\u001b[0;34m)\u001b[0m\u001b[0;34m.\u001b[0m\u001b[0msum\u001b[0m\u001b[0;34m(\u001b[0m\u001b[0maxis\u001b[0m\u001b[0;34m=\u001b[0m\u001b[0;36m1\u001b[0m\u001b[0;34m)\u001b[0m\u001b[0;34m\u001b[0m\u001b[0m\n\u001b[1;32m    175\u001b[0m \u001b[0;34m\u001b[0m\u001b[0m\n",
      "\u001b[0;31mAttributeError\u001b[0m: 'NoneType' object has no attribute 'keys'"
     ]
    }
   ],
   "source": [
    "convert.text_to_rcsv(txt, edat, config, out_file)"
   ]
  },
  {
   "cell_type": "code",
   "execution_count": 23,
   "metadata": {},
   "outputs": [
    {
     "data": {
      "text/plain": [
       "False"
      ]
     },
     "execution_count": 23,
     "metadata": {},
     "output_type": "execute_result"
    }
   ],
   "source": [
    "os.path.isfile('/home/trevor/betterflanker/sub')"
   ]
  },
  {
   "cell_type": "code",
   "execution_count": 22,
   "metadata": {},
   "outputs": [
    {
     "data": {
      "text/plain": [
       "'/home/trevor/betterflanker/BetterFlanker'"
      ]
     },
     "execution_count": 22,
     "metadata": {},
     "output_type": "execute_result"
    }
   ],
   "source": [
    "os.getcwd()"
   ]
  },
  {
   "cell_type": "code",
   "execution_count": 7,
   "metadata": {},
   "outputs": [
    {
     "data": {
      "text/plain": [
       "['Flanker_perfdata.txt',\n",
       " 'sub3_1',\n",
       " 'sub1_1',\n",
       " 'flankerA.es2',\n",
       " 'flankerA-001-1-1.edat2',\n",
       " 'advisor.xsl',\n",
       " 'flankerA-002-1-1-ExperimentAdvisorReport.xml',\n",
       " 'flankerA-004-1-1-ExperimentAdvisorReport.xml',\n",
       " 'flankerA-001-1-1-ExperimentAdvisorReport.xml',\n",
       " '.ipynb_checkpoints',\n",
       " 'flankerA-002-1-1.edat2',\n",
       " 'sub2_1',\n",
       " 'flankerA.wndpos',\n",
       " 'flankerA-001-1-1.txt',\n",
       " 'images',\n",
       " 'flankerA-003-1-1-ExperimentAdvisorReport.xml',\n",
       " 'flankerA-003-1-1.edat2',\n",
       " 'flankerA-002-1-1.txt',\n",
       " 'code',\n",
       " 'flankerA.ebs2',\n",
       " 'flankerA-004-1-1.txt',\n",
       " 'flankerA-004-1-1.edat2',\n",
       " 'flankerA-003-1-1.txt',\n",
       " 'sub4_1',\n",
       " '.git',\n",
       " 'Conversion.ipynb']"
      ]
     },
     "execution_count": 7,
     "metadata": {},
     "output_type": "execute_result"
    }
   ],
   "source": [
    "os.listdir()"
   ]
  },
  {
   "cell_type": "code",
   "execution_count": null,
   "metadata": {
    "collapsed": true
   },
   "outputs": [],
   "source": []
  }
 ],
 "metadata": {
  "kernelspec": {
   "display_name": "Python 3",
   "language": "python",
   "name": "python3"
  },
  "language_info": {
   "codemirror_mode": {
    "name": "ipython",
    "version": 3
   },
   "file_extension": ".py",
   "mimetype": "text/x-python",
   "name": "python",
   "nbconvert_exporter": "python",
   "pygments_lexer": "ipython3",
   "version": "3.6.1"
  }
 },
 "nbformat": 4,
 "nbformat_minor": 2
}
